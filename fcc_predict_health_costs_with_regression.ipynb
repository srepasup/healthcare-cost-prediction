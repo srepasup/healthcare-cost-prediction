{
  "cells": [
    {
      "cell_type": "markdown",
      "metadata": {
        "id": "view-in-github",
        "colab_type": "text"
      },
      "source": [
        "<a href=\"https://colab.research.google.com/github/srepasup/healthcare-cost-prediction/blob/main/fcc_predict_health_costs_with_regression.ipynb\" target=\"_parent\"><img src=\"https://colab.research.google.com/assets/colab-badge.svg\" alt=\"Open In Colab\"/></a>"
      ]
    },
    {
      "cell_type": "code",
      "execution_count": null,
      "metadata": {
        "id": "1rRo8oNqZ-Rj"
      },
      "outputs": [],
      "source": [
        "# Import libraries. You may or may not use all of these.\n",
        "!pip install -q git+https://github.com/tensorflow/docs\n",
        "import matplotlib.pyplot as plt\n",
        "import numpy as np\n",
        "import pandas as pd\n",
        "\n",
        "try:\n",
        "  # %tensorflow_version only exists in Colab.\n",
        "  %tensorflow_version 2.x\n",
        "except Exception:\n",
        "  pass\n",
        "import tensorflow as tf\n",
        "\n",
        "from tensorflow import keras\n",
        "from tensorflow.keras import layers\n",
        "\n",
        "import tensorflow_docs as tfdocs\n",
        "import tensorflow_docs.plots\n",
        "import tensorflow_docs.modeling"
      ]
    },
    {
      "cell_type": "code",
      "execution_count": null,
      "metadata": {
        "id": "CiX2FI4gZtTt"
      },
      "outputs": [],
      "source": [
        "# Import data\n",
        "!wget https://cdn.freecodecamp.org/project-data/health-costs/insurance.csv\n",
        "dataset = pd.read_csv('insurance.csv')\n",
        "dataset.tail()"
      ]
    },
    {
      "source": [
        "# Make a copy of the data so we don't change the original\n",
        "data_encoded = dataset.copy()\n",
        "\n",
        "# Convert categorical columns into numbers using one-hot encoding\n",
        "data_encoded = pd.get_dummies(data_encoded, columns=[\"sex\", \"smoker\", \"region\"], drop_first=True)\n",
        "\n",
        "# Display the first few rows to see what it looks like now\n",
        "data_encoded.head()"
      ],
      "cell_type": "code",
      "metadata": {
        "id": "eDUZDIefi5Ke"
      },
      "execution_count": null,
      "outputs": []
    },
    {
      "cell_type": "code",
      "source": [
        "from sklearn.model_selection import train_test_split\n",
        "\n",
        "# Step 1: Split the data into features (X) and labels (y)\n",
        "X = data_encoded.drop(\"expenses\", axis=1)  # All columns except 'expenses'\n",
        "y = data_encoded[\"expenses\"]              # Only the 'expenses' column\n",
        "\n",
        "# Step 2: Split into training (80%) and testing (20%) datasets\n",
        "train_dataset, test_dataset, train_labels, test_labels = train_test_split(\n",
        "    X, y, test_size=0.2, random_state=42\n",
        ")\n"
      ],
      "metadata": {
        "id": "R8tlFm_MjM2t"
      },
      "execution_count": null,
      "outputs": []
    },
    {
      "source": [
        "import tensorflow as tf\n",
        "from tensorflow import keras\n",
        "\n",
        "# Step 1: Build the model\n",
        "model = keras.Sequential([\n",
        "    keras.layers.Dense(64, activation='relu'),   # First hidden layer\n",
        "    keras.layers.Dense(64, activation='relu'),   # Second hidden layer\n",
        "    keras.layers.Dense(1)                        # Output layer (predict 1 number)\n",
        "])\n",
        "\n",
        "# Step 2: Compile the model (set how it learns)\n",
        "# Add 'mae' and 'mse' as metrics so evaluate returns these values along with the loss\n",
        "model.compile(optimizer='adam',\n",
        "              loss='mean_absolute_error',\n",
        "              metrics=['mae', 'mse']) # Added mean absolute error and mean squared error as metrics\n",
        "\n",
        "# Step 3: Train the model\n",
        "model.fit(train_dataset, train_labels, epochs=200)"
      ],
      "cell_type": "code",
      "metadata": {
        "id": "eGF2HiMAjyUS"
      },
      "execution_count": null,
      "outputs": []
    },
    {
      "cell_type": "code",
      "execution_count": null,
      "metadata": {
        "id": "Xe7RXH3N3CWU"
      },
      "outputs": [],
      "source": [
        "# RUN THIS CELL TO TEST YOUR MODEL. DO NOT MODIFY CONTENTS.\n",
        "# Test model by checking how well the model generalizes using the test set.\n",
        "loss, mae, mse = model.evaluate(test_dataset, test_labels, verbose=2)\n",
        "\n",
        "print(\"Testing set Mean Abs Error: {:5.2f} expenses\".format(mae))\n",
        "\n",
        "if mae < 3500:\n",
        "  print(\"You passed the challenge. Great job!\")\n",
        "else:\n",
        "  print(\"The Mean Abs Error must be less than 3500. Keep trying.\")\n",
        "\n",
        "# Plot predictions.\n",
        "test_predictions = model.predict(test_dataset).flatten()\n",
        "\n",
        "a = plt.axes(aspect='equal')\n",
        "plt.scatter(test_labels, test_predictions)\n",
        "plt.xlabel('True values (expenses)')\n",
        "plt.ylabel('Predictions (expenses)')\n",
        "lims = [0, 50000]\n",
        "plt.xlim(lims)\n",
        "plt.ylim(lims)\n",
        "_ = plt.plot(lims,lims)\n"
      ]
    }
  ],
  "metadata": {
    "colab": {
      "private_outputs": true,
      "provenance": [],
      "include_colab_link": true
    },
    "kernelspec": {
      "display_name": "Python 3",
      "name": "python3"
    }
  },
  "nbformat": 4,
  "nbformat_minor": 0
}